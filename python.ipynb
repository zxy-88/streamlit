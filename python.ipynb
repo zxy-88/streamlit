{
 "cells": [
  {
   "cell_type": "code",
   "execution_count": null,
   "metadata": {},
   "outputs": [],
   "source": [
    "import xml.etree.ElementTree as ET\n",
    "\n",
    "root = ET.parse('enquiry.xls')\n",
    "\n",
    "# Define the namespace\n",
    "namespace = {'ss': 'urn:schemas-microsoft-com:office:spreadsheet'}\n",
    "\n",
    "rows = root.findall(\"./ss:Worksheet/ss:Table/ss:Row\", namespace)\n",
    "print(len(rows))\n",
    "\n",
    "# for row in rows:\n",
    "#     data_elements = row.findall(\"ss:Cell/ss:Data\", namespace)\n",
    "#     print('SRow' + '-'*100)\n",
    "#     for data_element in data_elements:\n",
    "#         data_text = data_element.text\n",
    "#         print(\"Data Text:\", data_text)\n",
    "#     print('ERow'+ '-'*100)\n",
    "ap_ = []\n",
    "for c_row ,v_row in enumerate(rows):\n",
    "    data_elements = v_row.findall(\"ss:Cell/ss:Data\", namespace)\n",
    "    # print(data_elements)\n",
    "    print('-'*130)\n",
    "    for c_de,v_de in enumerate(data_elements):\n",
    "        data_text = v_de.text\n",
    "        print(str(c_de) + \" Data Text:\", data_text)\n",
    "        ap_.append(data_text)"
   ]
  },
  {
   "cell_type": "code",
   "execution_count": null,
   "metadata": {},
   "outputs": [],
   "source": [
    "ap_.pop(0)  # ลบ 'Report enquiry :Startdate 2023-07-20 to 2023-07-20 Export time [2023-07-21 12:46:28]'"
   ]
  },
  {
   "cell_type": "code",
   "execution_count": null,
   "metadata": {},
   "outputs": [],
   "source": [
    "rows = root.findall(\"./ss:Worksheet/ss:Table/ss:Row\", namespace)\n",
    "print(len(rows))"
   ]
  },
  {
   "cell_type": "code",
   "execution_count": null,
   "metadata": {},
   "outputs": [],
   "source": [
    "namespace = {'ss': 'urn:schemas-microsoft-com:office:spreadsheet'}\n",
    "\n",
    "rows = root.findall(\"./ss:Worksheet/ss:Table/ss:Row/ss:Cell/ss:Data\", namespace)\n",
    "\n",
    "len(rows)"
   ]
  },
  {
   "cell_type": "code",
   "execution_count": null,
   "metadata": {},
   "outputs": [],
   "source": [
    "sl = [ap_[i:i+44] for i in range(0, len(ap_), 44)]\n",
    "\n",
    "# ตรวจสอบผลลัพธ์\n",
    "for idx, sublist in enumerate(sl, start=1):\n",
    "    # print(f\"List {idx}: {sublist}\")\n",
    "    print(idx,sublist)"
   ]
  },
  {
   "cell_type": "code",
   "execution_count": null,
   "metadata": {},
   "outputs": [],
   "source": [
    "column = sl[0] # ตั้งชื่อ คอลัมน์\n",
    "column"
   ]
  },
  {
   "cell_type": "code",
   "execution_count": null,
   "metadata": {},
   "outputs": [],
   "source": [
    "sl.pop(0) # ลบหัวแถวออก"
   ]
  },
  {
   "cell_type": "code",
   "execution_count": null,
   "metadata": {},
   "outputs": [],
   "source": [
    "sl"
   ]
  },
  {
   "cell_type": "code",
   "execution_count": null,
   "metadata": {},
   "outputs": [],
   "source": [
    "import pandas as pd\n",
    "\n",
    "pd.set_option('display.max_columns',None)\n",
    "\n",
    "df = pd.DataFrame(sl,columns=column)\n",
    "df\n"
   ]
  },
  {
   "cell_type": "code",
   "execution_count": null,
   "metadata": {},
   "outputs": [],
   "source": [
    "df[['เลขเคลม','เลขรับแจ้ง','เลขเซอเวย์','อำเภอที่เกิดเหตุ','จังหวัดที่เกิดเหตุ','อำเภอที่ออกตรวจสอบ','จังหวัดที่ออกตรวจสอบ','พนักงานตรวจสอบ','เหตุผลการจ่ายงาน','ใช้เซอร์เวย์นอก',\n",
    "    'ประเภทเคลม(ว.4/นัดหมาย)','ใน/นอก(เวลางาน)','นอกพื้นที่','วันที่/เวลารับแจ้ง','วันที่/เวลาจ่ายงาน','วันที่/เวลารับงาน','วันที่/เวลาถึง ว.22','วันที่/เวลาเสร็จงาน ว.14','วันที่/เวลาส่งรายงาน','ผู้รับแจ้ง','ผู้จ่ายงาน','ผู้ตรวจสอบงาน','วันที่/เวลาตรวจสอบ','สถานะงาน']]"
   ]
  },
  {
   "cell_type": "code",
   "execution_count": null,
   "metadata": {},
   "outputs": [],
   "source": [
    "# df[df['ผู้จ่ายงาน']=='ปิยะณัฐ ขานไธสง']"
   ]
  },
  {
   "cell_type": "code",
   "execution_count": null,
   "metadata": {},
   "outputs": [],
   "source": [
    "# df[(df['ผู้รับแจ้ง']=='ปิยะณัฐ') & (df['ผู้จ่ายงาน']=='ปิยะณัฐ ขานไธสง')]"
   ]
  },
  {
   "cell_type": "code",
   "execution_count": null,
   "metadata": {},
   "outputs": [],
   "source": [
    "dfx = df['ผู้รับแจ้ง'].fillna('sesurvey')\n",
    "dfx"
   ]
  },
  {
   "cell_type": "code",
   "execution_count": null,
   "metadata": {},
   "outputs": [],
   "source": [
    "import numpy as np\n",
    "import matplotlib.pyplot as plt\n",
    "import matplotlib as mpl\n",
    "\n",
    "\n",
    "mpl.font_manager.fontManager.addfont(r'C:\\Users\\88888888\\Desktop\\gg-main\\THSarabunNew.ttf')\n",
    "mpl.rc('font',family='TH Sarabun New',size=10)\n",
    "\n",
    "# x = dfx\n",
    "# y = np.arange(1,262)\n",
    "\n",
    "\n",
    "# plt.bar(x,y)\n",
    "# plt.show()\n",
    "\n",
    "dfx.value_counts().plot(kind='barh')\n",
    "\n"
   ]
  },
  {
   "cell_type": "code",
   "execution_count": null,
   "metadata": {},
   "outputs": [],
   "source": [
    "import numpy as np\n",
    "import matplotlib.pyplot as plt\n",
    "import matplotlib as mpl\n",
    "\n",
    "\n",
    "mpl.font_manager.fontManager.addfont(r'C:\\Users\\88888888\\Desktop\\gg-main\\THSarabunNew.ttf')\n",
    "mpl.rc('font',family='TH Sarabun New',size=10)\n",
    "\n",
    "\n",
    "# # สร้างกราฟแบบ bar โดยกำหนดชื่อประเทศเป็นแกน x และจำนวนประชากรเป็นแกน y\n",
    "# ax = df.plot(x='ประเทศ', y='จำนวนประชากร', kind='bar', legend=False)\n",
    "\n",
    "# # แสดงค่าบนแท่ง\n",
    "# for index, value in enumerate(df['จำนวนประชากร']):\n",
    "#     ax.text(index, value, str(value), ha='center', va='bottom')\n",
    "\n",
    "# # กำหนดชื่อแกน x และ y และชื่อกราฟ\n",
    "# plt.xlabel('ประเทศ')\n",
    "# plt.ylabel('จำนวนประชากร')\n",
    "# plt.title('กราฟแสดงจำนวนประชากรของแต่ละประเทศ')\n",
    "\n",
    "# # แสดงกราฟ\n",
    "# plt.show()\n",
    "\n",
    "# dfx.plot(x='xx',y=dfx.value_counts,kind='bar')\n",
    "\n",
    "ax = dfx.value_counts().plot(kind='bar',legend=False)\n",
    "\n",
    "for index , value in enumerate(dfx.value_counts()):\n",
    "    ax.text(index,value,str(value), ha='center')\n"
   ]
  },
  {
   "cell_type": "code",
   "execution_count": null,
   "metadata": {},
   "outputs": [],
   "source": [
    "numpy_value = dfx.value_counts().values\n",
    "value_list = numpy_value.tolist()\n",
    "\n",
    "numpy_index = dfx.value_counts().index\n",
    "index_list = numpy_index.tolist()\n"
   ]
  },
  {
   "cell_type": "code",
   "execution_count": null,
   "metadata": {},
   "outputs": [],
   "source": [
    "import pandas as pd\n",
    "import matplotlib.pyplot as plt\n",
    "\n",
    "# สร้างข้อมูลตัวอย่าง\n",
    "data = {\n",
    "    'ชื่อพนักงานรับแจ้ง': index_list,\n",
    "    'จำนวนสายที่รับ': value_list\n",
    "}\n",
    "\n",
    "# แปลงข้อมูลเป็น DataFrame ของ pandas\n",
    "df = pd.DataFrame(data)\n",
    "\n",
    "# สร้างกราฟแบบ barh โดยกำหนดชื่อประเทศเป็นแกน y และจำนวนประชากรเป็นแกน x\n",
    "ax = df.plot(x='ชื่อพนักงานรับแจ้ง', y='จำนวนสายที่รับ', kind='barh', legend=False)\n",
    "\n",
    "# แสดงค่าบนแท่ง\n",
    "for index, value in enumerate(df['จำนวนสายที่รับ']):\n",
    "    ax.text(value, index, str(value), ha='left', va='center')\n",
    "\n",
    "# กำหนดชื่อแกน x และ y และชื่อกราฟ\n",
    "plt.xlabel('จำนวนสายที่รับ')\n",
    "plt.ylabel('รายชื่อพนักงานรับแจ้ง')\n",
    "plt.title('กราฟแสดงจำนวนสายที่รับ')\n",
    "\n",
    "# แสดงกราฟ\n",
    "plt.show()\n"
   ]
  },
  {
   "cell_type": "code",
   "execution_count": null,
   "metadata": {},
   "outputs": [],
   "source": [
    "import pandas as pd\n",
    "import matplotlib.pyplot as plt\n",
    "import matplotlib as mpl\n",
    "\n",
    "mpl.font_manager.fontManager.addfont(r'C:\\Users\\88888888\\Desktop\\gg-main\\THSarabunNew.ttf')\n",
    "mpl.rc('font',family='TH Sarabun New',size=14)\n",
    "\n",
    "# สร้างข้อมูลตัวอย่าง\n",
    "data = {\n",
    "    'ประเทศ': ['ประเทศ A', 'ประเทศ B', 'ประเทศ C', 'ประเทศ D'],\n",
    "    'จำนวนประชากร': [500, 700, 400, 600]\n",
    "}\n",
    "\n",
    "# แปลงข้อมูลเป็น DataFrame ของ pandas\n",
    "df = pd.DataFrame(data)\n",
    "\n",
    "# สร้างกราฟแบบ bar โดยกำหนดชื่อประเทศเป็นแกน x และจำนวนประชากรเป็นแกน y\n",
    "ax = df.plot(x='ประเทศ', y='จำนวนประชากร', kind='bar', legend=False)\n",
    "\n",
    "# แสดงค่าบนแท่ง\n",
    "for index, value in enumerate(df['จำนวนประชากร']):\n",
    "    ax.text(index,value, str(value), ha='center', va='bottom')\n",
    "\n",
    "# กำหนดชื่อแกน x และ y และชื่อกราฟ\n",
    "plt.xlabel('ประเทศ')\n",
    "plt.ylabel('จำนวนประชากร')\n",
    "plt.title('กราฟแสดงจำนวนประชากรของแต่ละประเทศ')\n",
    "\n",
    "# แสดงกราฟ\n",
    "plt.show()\n"
   ]
  },
  {
   "cell_type": "code",
   "execution_count": null,
   "metadata": {},
   "outputs": [],
   "source": [
    "dfx.value_counts()"
   ]
  },
  {
   "cell_type": "code",
   "execution_count": null,
   "metadata": {},
   "outputs": [],
   "source": [
    "import matplotlib as mpl\n",
    "mpl.__version__"
   ]
  },
  {
   "cell_type": "code",
   "execution_count": null,
   "metadata": {},
   "outputs": [],
   "source": [
    "import pandas as pd\n",
    "import matplotlib.pyplot as plt\n",
    "\n",
    "# สร้างข้อมูลตัวอย่าง\n",
    "data = {\n",
    "    'ประเทศ': ['ประเทศ A', 'ประเทศ B', 'ประเทศ C', 'ประเทศ D'],\n",
    "    'จำนวนประชากร': [500, 700, 400, 600]\n",
    "}\n",
    "\n",
    "# แปลงข้อมูลเป็น DataFrame ของ pandas\n",
    "df = pd.DataFrame(data)\n",
    "\n",
    "# สร้างกราฟแบบ barh โดยกำหนดชื่อประเทศเป็นแกน y และจำนวนประชากรเป็นแกน x\n",
    "ax = df.plot(x='ประเทศ', y='จำนวนประชากร', kind='barh', legend=False)\n",
    "\n",
    "# แสดงค่าบนแท่ง\n",
    "for index, value in enumerate(df['จำนวนประชากร']):\n",
    "    ax.text(value, index, str(value), ha='left', va='center')\n",
    "\n",
    "# กำหนดชื่อแกน x และ y และชื่อกราฟ\n",
    "plt.xlabel('จำนวนประชากร')\n",
    "plt.ylabel('ประเทศ')\n",
    "plt.title('กราฟแสดงจำนวนประชากรของแต่ละประเทศ')\n",
    "\n",
    "# แสดงกราฟ\n",
    "plt.show()\n"
   ]
  },
  {
   "cell_type": "code",
   "execution_count": null,
   "metadata": {},
   "outputs": [],
   "source": [
    "import pandas as pd\n",
    "import matplotlib.pyplot as plt\n",
    "import streamlit as st\n",
    "\n",
    "# สร้างข้อมูลตัวอย่าง\n",
    "data = {\n",
    "    'ประเทศ': ['ประเทศ A', 'ประเทศ B', 'ประเทศ C', 'ประเทศ D'],\n",
    "    'จำนวนประชากร': [500, 700, 400, 600]\n",
    "}\n",
    "\n",
    "# แปลงข้อมูลเป็น DataFrame ของ pandas\n",
    "df = pd.DataFrame(data)\n",
    "\n",
    "# สร้างกราฟแบบ barh โดยกำหนดชื่อประเทศเป็นแกน y และจำนวนประชากรเป็นแกน x\n",
    "ax = df.plot(x='ประเทศ', y='จำนวนประชากร', kind='barh', legend=False)\n",
    "\n",
    "# แสดงค่าบนแท่ง\n",
    "for index, value in enumerate(df['จำนวนประชากร']):\n",
    "    ax.text(value, index, str(value), ha='left', va='center')\n",
    "\n",
    "# กำหนดชื่อแกน x และ y และชื่อกราฟ\n",
    "plt.xlabel('จำนวนประชากร')\n",
    "plt.ylabel('ประเทศ')\n",
    "plt.title('กราฟแสดงจำนวนประชากรของแต่ละประเทศ')\n",
    "\n",
    "# แสดงกราฟ\n",
    "plt.show()"
   ]
  },
  {
   "cell_type": "code",
   "execution_count": null,
   "metadata": {},
   "outputs": [],
   "source": [
    "import streamlit as st\n",
    "import pandas as pd\n",
    "import numpy as np\n",
    "\n",
    "chart_data = pd.DataFrame(\n",
    "    np.random.randn(20, 3),\n",
    "    columns=['a', 'b', 'c'])\n",
    "\n",
    "chart_data.plot()"
   ]
  },
  {
   "cell_type": "code",
   "execution_count": null,
   "metadata": {},
   "outputs": [],
   "source": [
    "import pandas as pd\n",
    "import streamlit as st\n",
    "\n",
    "# โหลดข้อมูล\n",
    "dd = {\n",
    "    'country': ['ประเทศ A', 'ประเทศ B', 'ประเทศ C', 'ประเทศ D'],\n",
    "    'population': [500, 700, 400, 600]\n",
    "}\n",
    "\n",
    "\n",
    "\n",
    "df = pd.DataFrame(dd)\n",
    "\n",
    "df.plot.barh(x='country', y='population', stacked=True).set_facecolor('lightblue')\n",
    "\n",
    "# เปลี่ยนสีพื้นหลัง\n",
    "ax.set_facecolor('lightblue')\n",
    "\n",
    "# แสดงแผนภูมิ\n",
    "# st.pyplot(df)\n"
   ]
  },
  {
   "cell_type": "code",
   "execution_count": null,
   "metadata": {},
   "outputs": [],
   "source": [
    "import pandas as pd\n",
    "\n",
    "read_csv = pd.read_csv(r'/Users/macmini/Downloads/จบงาน.csv')"
   ]
  },
  {
   "cell_type": "code",
   "execution_count": null,
   "metadata": {},
   "outputs": [],
   "source": [
    "df = pd.DataFrame(read_csv)"
   ]
  },
  {
   "cell_type": "code",
   "execution_count": null,
   "metadata": {},
   "outputs": [],
   "source": [
    "df = df.drop(columns=['Unnamed: 0']) # ลบ Columns แรกออก\n"
   ]
  },
  {
   "cell_type": "code",
   "execution_count": null,
   "metadata": {},
   "outputs": [],
   "source": [
    "df['เลขเคลม']= df['เลขเคลม'].astype('str')\n",
    "df['เลขรับแจ้ง']= df['เลขรับแจ้ง'].astype('str').str.replace(\".0\", \"\")\n",
    "df"
   ]
  },
  {
   "cell_type": "code",
   "execution_count": null,
   "metadata": {},
   "outputs": [],
   "source": [
    "df.to_excel(r'/Users/macmini/Downloads/จบงาน.xlsx',index=False)"
   ]
  },
  {
   "cell_type": "code",
   "execution_count": null,
   "metadata": {},
   "outputs": [],
   "source": [
    "import matplotlib.pyplot as plt\n",
    "import numpy as np\n",
    "\n",
    "plt.close(\"all\")\n",
    "\n",
    "ts = pd.Series(np.random.randn(1000), index=pd.date_range(\"1/1/2000\", periods=1000))\n",
    "\n",
    "ts = ts.cumsum()\n",
    "\n",
    "ts.plot()"
   ]
  },
  {
   "cell_type": "code",
   "execution_count": null,
   "metadata": {},
   "outputs": [],
   "source": [
    "import pandas as pd\n",
    "\n",
    "nump = np.random.randn(10)\n",
    "\n",
    "nump"
   ]
  },
  {
   "cell_type": "code",
   "execution_count": null,
   "metadata": {},
   "outputs": [],
   "source": [
    "days = pd.date_range(\"1/1/2000\", periods=10)\n",
    "days"
   ]
  },
  {
   "cell_type": "code",
   "execution_count": null,
   "metadata": {},
   "outputs": [],
   "source": [
    "nump\n",
    "\n"
   ]
  },
  {
   "cell_type": "code",
   "execution_count": null,
   "metadata": {},
   "outputs": [],
   "source": [
    "df_random = pd.DataFrame(nump,columns=['Random'])\n",
    "df_periods = pd.DataFrame(days,columns=['Periods'])"
   ]
  },
  {
   "cell_type": "code",
   "execution_count": null,
   "metadata": {},
   "outputs": [],
   "source": [
    "df = pd.concat([df_random,df_periods],axis=1)\n",
    "df"
   ]
  },
  {
   "cell_type": "code",
   "execution_count": null,
   "metadata": {},
   "outputs": [],
   "source": [
    "nump = np.random.randn(5)\n",
    "days = pd.date_range(\"1/1/2000\", periods=5)"
   ]
  },
  {
   "cell_type": "code",
   "execution_count": null,
   "metadata": {},
   "outputs": [],
   "source": [
    "data = {\n",
    "    'Random' : nump,\n",
    "    'Periods' : days\n",
    "}"
   ]
  },
  {
   "cell_type": "code",
   "execution_count": null,
   "metadata": {},
   "outputs": [],
   "source": [
    "pd.DataFrame(data)"
   ]
  },
  {
   "cell_type": "code",
   "execution_count": 105,
   "metadata": {},
   "outputs": [
    {
     "data": {
      "text/html": [
       "<div>\n",
       "<style scoped>\n",
       "    .dataframe tbody tr th:only-of-type {\n",
       "        vertical-align: middle;\n",
       "    }\n",
       "\n",
       "    .dataframe tbody tr th {\n",
       "        vertical-align: top;\n",
       "    }\n",
       "\n",
       "    .dataframe thead th {\n",
       "        text-align: right;\n",
       "    }\n",
       "</style>\n",
       "<table border=\"1\" class=\"dataframe\">\n",
       "  <thead>\n",
       "    <tr style=\"text-align: right;\">\n",
       "      <th></th>\n",
       "      <th>พนักงานตรวจสอบ</th>\n",
       "      <th>เลขเคลม</th>\n",
       "      <th>วันที่/เวลารับงาน</th>\n",
       "      <th>วันที่/เวลาส่งรายงาน</th>\n",
       "    </tr>\n",
       "  </thead>\n",
       "  <tbody>\n",
       "    <tr>\n",
       "      <th>0</th>\n",
       "      <td>SE151ศราวุธ เสนีย์ชัย</td>\n",
       "      <td>2022013166051</td>\n",
       "      <td>2023-07-21T08:57:00</td>\n",
       "      <td>2023-07-23 12:32</td>\n",
       "    </tr>\n",
       "    <tr>\n",
       "      <th>1</th>\n",
       "      <td>SEC232 ​นาย ธนิศ ชูระเชตุ</td>\n",
       "      <td>2023013032000</td>\n",
       "      <td>2023-07-20T11:31:00</td>\n",
       "      <td>2023-07-21 08:23</td>\n",
       "    </tr>\n",
       "    <tr>\n",
       "      <th>2</th>\n",
       "      <td>SEC98 นาย วัชระ โพธิ์มัจฉา</td>\n",
       "      <td>2023013034351</td>\n",
       "      <td>2023-07-20T15:11:00</td>\n",
       "      <td>2023-07-22 02:04</td>\n",
       "    </tr>\n",
       "    <tr>\n",
       "      <th>3</th>\n",
       "      <td>SE275 นาย คมกริช ทองขาว</td>\n",
       "      <td>2023013035825</td>\n",
       "      <td>2023-07-20T08:40:00</td>\n",
       "      <td>2023-07-20 21:14</td>\n",
       "    </tr>\n",
       "    <tr>\n",
       "      <th>4</th>\n",
       "      <td>SEC277 นาย ไชยา ศรียาภัย</td>\n",
       "      <td>2023013035917</td>\n",
       "      <td>2023-07-20T11:30:00</td>\n",
       "      <td>2023-07-20 23:13</td>\n",
       "    </tr>\n",
       "    <tr>\n",
       "      <th>...</th>\n",
       "      <td>...</td>\n",
       "      <td>...</td>\n",
       "      <td>...</td>\n",
       "      <td>...</td>\n",
       "    </tr>\n",
       "    <tr>\n",
       "      <th>240</th>\n",
       "      <td>บริษัท เอ็ม.พี.เคลม จำกัด</td>\n",
       "      <td>2023013700558</td>\n",
       "      <td>2023-07-20T13:40:00</td>\n",
       "      <td>2023-07-20 14:22</td>\n",
       "    </tr>\n",
       "    <tr>\n",
       "      <th>241</th>\n",
       "      <td>บริษัท เอ็ม.พี.เคลม จำกัด</td>\n",
       "      <td>2023013700558</td>\n",
       "      <td>2023-07-20T13:40:00</td>\n",
       "      <td>2023-07-20 14:22</td>\n",
       "    </tr>\n",
       "    <tr>\n",
       "      <th>242</th>\n",
       "      <td>บริษัท เอ็ม.พี.เคลม จำกัด</td>\n",
       "      <td>2023013700558</td>\n",
       "      <td>2023-07-20T13:40:00</td>\n",
       "      <td>2023-07-20 14:22</td>\n",
       "    </tr>\n",
       "    <tr>\n",
       "      <th>243</th>\n",
       "      <td>SE241 นาย ธรรมนูญ เมืองปฐม</td>\n",
       "      <td>2023013700895</td>\n",
       "      <td>2023-07-20T17:37:00</td>\n",
       "      <td>2023-07-21 14:43</td>\n",
       "    </tr>\n",
       "    <tr>\n",
       "      <th>244</th>\n",
       "      <td>SE250 นาย นที ปั้นทอง</td>\n",
       "      <td>2023123728</td>\n",
       "      <td>2023-07-20T11:06:00</td>\n",
       "      <td>2023-07-20 11:32</td>\n",
       "    </tr>\n",
       "  </tbody>\n",
       "</table>\n",
       "<p>245 rows × 4 columns</p>\n",
       "</div>"
      ],
      "text/plain": [
       "                 พนักงานตรวจสอบ        เลขเคลม    วันที่/เวลารับงาน  \\\n",
       "0         SE151ศราวุธ เสนีย์ชัย  2022013166051  2023-07-21T08:57:00   \n",
       "1     SEC232 ​นาย ธนิศ ชูระเชตุ  2023013032000  2023-07-20T11:31:00   \n",
       "2    SEC98 นาย วัชระ โพธิ์มัจฉา  2023013034351  2023-07-20T15:11:00   \n",
       "3       SE275 นาย คมกริช ทองขาว  2023013035825  2023-07-20T08:40:00   \n",
       "4      SEC277 นาย ไชยา ศรียาภัย  2023013035917  2023-07-20T11:30:00   \n",
       "..                          ...            ...                  ...   \n",
       "240   บริษัท เอ็ม.พี.เคลม จำกัด  2023013700558  2023-07-20T13:40:00   \n",
       "241   บริษัท เอ็ม.พี.เคลม จำกัด  2023013700558  2023-07-20T13:40:00   \n",
       "242   บริษัท เอ็ม.พี.เคลม จำกัด  2023013700558  2023-07-20T13:40:00   \n",
       "243  SE241 นาย ธรรมนูญ เมืองปฐม  2023013700895  2023-07-20T17:37:00   \n",
       "244       SE250 นาย นที ปั้นทอง     2023123728  2023-07-20T11:06:00   \n",
       "\n",
       "    วันที่/เวลาส่งรายงาน  \n",
       "0       2023-07-23 12:32  \n",
       "1       2023-07-21 08:23  \n",
       "2       2023-07-22 02:04  \n",
       "3       2023-07-20 21:14  \n",
       "4       2023-07-20 23:13  \n",
       "..                   ...  \n",
       "240     2023-07-20 14:22  \n",
       "241     2023-07-20 14:22  \n",
       "242     2023-07-20 14:22  \n",
       "243     2023-07-21 14:43  \n",
       "244     2023-07-20 11:32  \n",
       "\n",
       "[245 rows x 4 columns]"
      ]
     },
     "execution_count": 105,
     "metadata": {},
     "output_type": "execute_result"
    }
   ],
   "source": [
    "import streamlit as st\n",
    "import matplotlib.pyplot as plt\n",
    "import plotly.express as px\n",
    "import pandas as pd\n",
    "import xml.etree.ElementTree as ET\n",
    "\n",
    "df = pd.read_csv('จบงาน.csv')\n",
    "df.dropna()\n",
    "df = df[['พนักงานตรวจสอบ','เลขเคลม','วันที่/เวลารับงาน','วันที่/เวลาส่งรายงาน']]\n",
    "df"
   ]
  },
  {
   "cell_type": "code",
   "execution_count": 107,
   "metadata": {},
   "outputs": [
    {
     "name": "stdout",
     "output_type": "stream",
     "text": [
      "<class 'pandas.core.frame.DataFrame'>\n",
      "RangeIndex: 245 entries, 0 to 244\n",
      "Data columns (total 4 columns):\n",
      " #   Column                Non-Null Count  Dtype \n",
      "---  ------                --------------  ----- \n",
      " 0   พนักงานตรวจสอบ        245 non-null    object\n",
      " 1   เลขเคลม               245 non-null    int64 \n",
      " 2   วันที่/เวลารับงาน     245 non-null    object\n",
      " 3   วันที่/เวลาส่งรายงาน  245 non-null    object\n",
      "dtypes: int64(1), object(3)\n",
      "memory usage: 7.8+ KB\n"
     ]
    }
   ],
   "source": [
    "df.info()"
   ]
  },
  {
   "cell_type": "code",
   "execution_count": 108,
   "metadata": {},
   "outputs": [
    {
     "name": "stderr",
     "output_type": "stream",
     "text": [
      "C:\\Users\\88888888\\AppData\\Local\\Temp\\ipykernel_11648\\2044916629.py:5: FutureWarning:\n",
      "\n",
      "The default value of regex will change from True to False in a future version.\n",
      "\n"
     ]
    }
   ],
   "source": [
    "df['วันที่/เวลารับงาน'] = df['วันที่/เวลารับงาน'].str.split('T').str[0]\n",
    "df['วันที่/เวลาส่งรายงาน'] = df['วันที่/เวลาส่งรายงาน'].str.split().str[0]\n",
    "df['เลขเคลม'] = df['เลขเคลม'].astype(str)\n",
    "# เพิ่ม \"C_\" ข้างหน้ารหัส\n",
    "df['เลขเคลม'] = df['เลขเคลม'].str.replace(r'(\\d+)', r'C_\\1')\n",
    "\n",
    "\n",
    "# df['เลขเคลม'] = df['เลขเคลม'].map(str)\n",
    "df['วันที่/เวลารับงาน'] = pd.to_datetime(df['วันที่/เวลารับงาน'])\n",
    "df['วันที่/เวลาส่งรายงาน'] = pd.to_datetime(df['วันที่/เวลาส่งรายงาน'])\n"
   ]
  },
  {
   "cell_type": "code",
   "execution_count": 110,
   "metadata": {},
   "outputs": [
    {
     "data": {
      "text/html": [
       "<div>\n",
       "<style scoped>\n",
       "    .dataframe tbody tr th:only-of-type {\n",
       "        vertical-align: middle;\n",
       "    }\n",
       "\n",
       "    .dataframe tbody tr th {\n",
       "        vertical-align: top;\n",
       "    }\n",
       "\n",
       "    .dataframe thead th {\n",
       "        text-align: right;\n",
       "    }\n",
       "</style>\n",
       "<table border=\"1\" class=\"dataframe\">\n",
       "  <thead>\n",
       "    <tr style=\"text-align: right;\">\n",
       "      <th></th>\n",
       "      <th>พนักงานตรวจสอบ</th>\n",
       "      <th>เลขเคลม</th>\n",
       "      <th>วันที่/เวลารับงาน</th>\n",
       "      <th>วันที่/เวลาส่งรายงาน</th>\n",
       "    </tr>\n",
       "  </thead>\n",
       "  <tbody>\n",
       "    <tr>\n",
       "      <th>0</th>\n",
       "      <td>SE151ศราวุธ เสนีย์ชัย</td>\n",
       "      <td>C_2022013166051</td>\n",
       "      <td>2023-07-21</td>\n",
       "      <td>2023-07-23</td>\n",
       "    </tr>\n",
       "    <tr>\n",
       "      <th>1</th>\n",
       "      <td>SEC232 ​นาย ธนิศ ชูระเชตุ</td>\n",
       "      <td>C_2023013032000</td>\n",
       "      <td>2023-07-20</td>\n",
       "      <td>2023-07-21</td>\n",
       "    </tr>\n",
       "    <tr>\n",
       "      <th>2</th>\n",
       "      <td>SEC98 นาย วัชระ โพธิ์มัจฉา</td>\n",
       "      <td>C_2023013034351</td>\n",
       "      <td>2023-07-20</td>\n",
       "      <td>2023-07-22</td>\n",
       "    </tr>\n",
       "    <tr>\n",
       "      <th>3</th>\n",
       "      <td>SE275 นาย คมกริช ทองขาว</td>\n",
       "      <td>C_2023013035825</td>\n",
       "      <td>2023-07-20</td>\n",
       "      <td>2023-07-20</td>\n",
       "    </tr>\n",
       "    <tr>\n",
       "      <th>4</th>\n",
       "      <td>SEC277 นาย ไชยา ศรียาภัย</td>\n",
       "      <td>C_2023013035917</td>\n",
       "      <td>2023-07-20</td>\n",
       "      <td>2023-07-20</td>\n",
       "    </tr>\n",
       "  </tbody>\n",
       "</table>\n",
       "</div>"
      ],
      "text/plain": [
       "               พนักงานตรวจสอบ          เลขเคลม วันที่/เวลารับงาน  \\\n",
       "0       SE151ศราวุธ เสนีย์ชัย  C_2022013166051        2023-07-21   \n",
       "1   SEC232 ​นาย ธนิศ ชูระเชตุ  C_2023013032000        2023-07-20   \n",
       "2  SEC98 นาย วัชระ โพธิ์มัจฉา  C_2023013034351        2023-07-20   \n",
       "3     SE275 นาย คมกริช ทองขาว  C_2023013035825        2023-07-20   \n",
       "4    SEC277 นาย ไชยา ศรียาภัย  C_2023013035917        2023-07-20   \n",
       "\n",
       "  วันที่/เวลาส่งรายงาน  \n",
       "0           2023-07-23  \n",
       "1           2023-07-21  \n",
       "2           2023-07-22  \n",
       "3           2023-07-20  \n",
       "4           2023-07-20  "
      ]
     },
     "execution_count": 110,
     "metadata": {},
     "output_type": "execute_result"
    }
   ],
   "source": [
    "df.head()"
   ]
  },
  {
   "cell_type": "code",
   "execution_count": 109,
   "metadata": {},
   "outputs": [
    {
     "name": "stdout",
     "output_type": "stream",
     "text": [
      "<class 'pandas.core.frame.DataFrame'>\n",
      "RangeIndex: 245 entries, 0 to 244\n",
      "Data columns (total 4 columns):\n",
      " #   Column                Non-Null Count  Dtype         \n",
      "---  ------                --------------  -----         \n",
      " 0   พนักงานตรวจสอบ        245 non-null    object        \n",
      " 1   เลขเคลม               245 non-null    object        \n",
      " 2   วันที่/เวลารับงาน     245 non-null    datetime64[ns]\n",
      " 3   วันที่/เวลาส่งรายงาน  245 non-null    datetime64[ns]\n",
      "dtypes: datetime64[ns](2), object(2)\n",
      "memory usage: 7.8+ KB\n"
     ]
    }
   ],
   "source": [
    "df.info()"
   ]
  },
  {
   "cell_type": "code",
   "execution_count": 111,
   "metadata": {},
   "outputs": [
    {
     "data": {
      "application/vnd.plotly.v1+json": {
       "config": {
        "plotlyServerURL": "https://plot.ly"
       },
       "data": [
        {
         "alignmentgroup": "True",
         "base": [
          "2023-07-21T00:00:00",
          "2023-07-20T00:00:00",
          "2023-07-20T00:00:00",
          "2023-07-20T00:00:00",
          "2023-07-20T00:00:00",
          "2023-07-20T00:00:00",
          "2023-07-20T00:00:00",
          "2023-07-20T00:00:00",
          "2023-07-20T00:00:00",
          "2023-07-20T00:00:00",
          "2023-07-20T00:00:00",
          "2023-07-20T00:00:00",
          "2023-07-20T00:00:00",
          "2023-07-20T00:00:00",
          "2023-07-20T00:00:00",
          "2023-07-20T00:00:00",
          "2023-07-20T00:00:00",
          "2023-07-20T00:00:00",
          "2023-07-20T00:00:00",
          "2023-07-20T00:00:00",
          "2023-07-20T00:00:00",
          "2023-07-20T00:00:00",
          "2023-07-20T00:00:00",
          "2023-07-20T00:00:00",
          "2023-07-20T00:00:00",
          "2023-07-20T00:00:00",
          "2023-07-20T00:00:00",
          "2023-07-20T00:00:00",
          "2023-07-20T00:00:00",
          "2023-07-20T00:00:00",
          "2023-07-20T00:00:00",
          "2023-07-20T00:00:00",
          "2023-07-20T00:00:00",
          "2023-07-20T00:00:00",
          "2023-07-20T00:00:00",
          "2023-07-20T00:00:00",
          "2023-07-20T00:00:00",
          "2023-07-20T00:00:00",
          "2023-07-20T00:00:00",
          "2023-07-20T00:00:00",
          "2023-07-20T00:00:00",
          "2023-07-20T00:00:00",
          "2023-07-20T00:00:00",
          "2023-07-20T00:00:00",
          "2023-07-20T00:00:00",
          "2023-07-20T00:00:00",
          "2023-07-20T00:00:00",
          "2023-07-20T00:00:00",
          "2023-07-20T00:00:00",
          "2023-07-20T00:00:00",
          "2023-07-20T00:00:00",
          "2023-07-20T00:00:00",
          "2023-07-20T00:00:00",
          "2023-07-20T00:00:00",
          "2023-07-20T00:00:00",
          "2023-07-20T00:00:00",
          "2023-07-20T00:00:00",
          "2023-07-20T00:00:00",
          "2023-07-20T00:00:00",
          "2023-07-20T00:00:00",
          "2023-07-20T00:00:00",
          "2023-07-20T00:00:00",
          "2023-07-20T00:00:00",
          "2023-07-20T00:00:00",
          "2023-07-20T00:00:00",
          "2023-07-20T00:00:00",
          "2023-07-20T00:00:00",
          "2023-07-20T00:00:00",
          "2023-07-20T00:00:00",
          "2023-07-20T00:00:00",
          "2023-07-20T00:00:00",
          "2023-07-20T00:00:00",
          "2023-07-20T00:00:00",
          "2023-07-20T00:00:00",
          "2023-07-20T00:00:00",
          "2023-07-20T00:00:00",
          "2023-07-20T00:00:00",
          "2023-07-20T00:00:00",
          "2023-07-20T00:00:00",
          "2023-07-20T00:00:00",
          "2023-07-20T00:00:00",
          "2023-07-20T00:00:00",
          "2023-07-20T00:00:00",
          "2023-07-20T00:00:00",
          "2023-07-20T00:00:00",
          "2023-07-20T00:00:00",
          "2023-07-20T00:00:00",
          "2023-07-20T00:00:00",
          "2023-07-20T00:00:00",
          "2023-07-20T00:00:00",
          "2023-07-20T00:00:00",
          "2023-07-20T00:00:00",
          "2023-07-20T00:00:00",
          "2023-07-20T00:00:00",
          "2023-07-20T00:00:00",
          "2023-07-20T00:00:00",
          "2023-07-20T00:00:00",
          "2023-07-20T00:00:00",
          "2023-07-20T00:00:00",
          "2023-07-20T00:00:00",
          "2023-07-20T00:00:00",
          "2023-07-20T00:00:00",
          "2023-07-20T00:00:00",
          "2023-07-20T00:00:00",
          "2023-07-20T00:00:00",
          "2023-07-20T00:00:00",
          "2023-07-20T00:00:00",
          "2023-07-20T00:00:00",
          "2023-07-20T00:00:00",
          "2023-07-20T00:00:00",
          "2023-07-20T00:00:00",
          "2023-07-20T00:00:00",
          "2023-07-20T00:00:00",
          "2023-07-20T00:00:00",
          "2023-07-20T00:00:00",
          "2023-07-20T00:00:00",
          "2023-07-20T00:00:00",
          "2023-07-20T00:00:00",
          "2023-07-20T00:00:00",
          "2023-07-20T00:00:00",
          "2023-07-20T00:00:00",
          "2023-07-20T00:00:00",
          "2023-07-20T00:00:00",
          "2023-07-20T00:00:00",
          "2023-07-20T00:00:00",
          "2023-07-20T00:00:00",
          "2023-07-20T00:00:00",
          "2023-07-20T00:00:00",
          "2023-07-20T00:00:00",
          "2023-07-20T00:00:00",
          "2023-07-20T00:00:00",
          "2023-07-20T00:00:00",
          "2023-07-20T00:00:00",
          "2023-07-20T00:00:00",
          "2023-07-20T00:00:00",
          "2023-07-20T00:00:00",
          "2023-07-20T00:00:00",
          "2023-07-20T00:00:00",
          "2023-07-20T00:00:00",
          "2023-07-20T00:00:00",
          "2023-07-20T00:00:00",
          "2023-07-20T00:00:00",
          "2023-07-20T00:00:00",
          "2023-07-20T00:00:00",
          "2023-07-20T00:00:00",
          "2023-07-20T00:00:00",
          "2023-07-20T00:00:00",
          "2023-07-20T00:00:00",
          "2023-07-20T00:00:00",
          "2023-07-20T00:00:00",
          "2023-07-20T00:00:00",
          "2023-07-20T00:00:00",
          "2023-07-20T00:00:00",
          "2023-07-20T00:00:00",
          "2023-07-20T00:00:00",
          "2023-07-20T00:00:00",
          "2023-07-20T00:00:00",
          "2023-07-20T00:00:00",
          "2023-07-20T00:00:00",
          "2023-07-20T00:00:00",
          "2023-07-20T00:00:00",
          "2023-07-20T00:00:00",
          "2023-07-20T00:00:00",
          "2023-07-20T00:00:00",
          "2023-07-20T00:00:00",
          "2023-07-20T00:00:00",
          "2023-07-20T00:00:00",
          "2023-07-20T00:00:00",
          "2023-07-20T00:00:00",
          "2023-07-20T00:00:00",
          "2023-07-20T00:00:00",
          "2023-07-20T00:00:00",
          "2023-07-20T00:00:00",
          "2023-07-20T00:00:00",
          "2023-07-20T00:00:00",
          "2023-07-20T00:00:00",
          "2023-07-20T00:00:00",
          "2023-07-20T00:00:00",
          "2023-07-20T00:00:00",
          "2023-07-20T00:00:00",
          "2023-07-20T00:00:00",
          "2023-07-20T00:00:00",
          "2023-07-20T00:00:00",
          "2023-07-20T00:00:00",
          "2023-07-20T00:00:00",
          "2023-07-20T00:00:00",
          "2023-07-20T00:00:00",
          "2023-07-20T00:00:00",
          "2023-07-20T00:00:00",
          "2023-07-20T00:00:00",
          "2023-07-20T00:00:00",
          "2023-07-20T00:00:00",
          "2023-07-20T00:00:00",
          "2023-07-20T00:00:00",
          "2023-07-20T00:00:00",
          "2023-07-20T00:00:00",
          "2023-07-20T00:00:00",
          "2023-07-20T00:00:00",
          "2023-07-20T00:00:00",
          "2023-07-20T00:00:00",
          "2023-07-20T00:00:00",
          "2023-07-20T00:00:00",
          "2023-07-20T00:00:00",
          "2023-07-20T00:00:00",
          "2023-07-20T00:00:00",
          "2023-07-20T00:00:00",
          "2023-07-20T00:00:00",
          "2023-07-20T00:00:00",
          "2023-07-20T00:00:00",
          "2023-07-20T00:00:00",
          "2023-07-20T00:00:00",
          "2023-07-20T00:00:00",
          "2023-07-20T00:00:00",
          "2023-07-20T00:00:00",
          "2023-07-20T00:00:00",
          "2023-07-20T00:00:00",
          "2023-07-20T00:00:00",
          "2023-07-20T00:00:00",
          "2023-07-20T00:00:00",
          "2023-07-20T00:00:00",
          "2023-07-20T00:00:00",
          "2023-07-20T00:00:00",
          "2023-07-20T00:00:00",
          "2023-07-20T00:00:00",
          "2023-07-20T00:00:00",
          "2023-07-20T00:00:00",
          "2023-07-20T00:00:00",
          "2023-07-20T00:00:00",
          "2023-07-20T00:00:00",
          "2023-07-20T00:00:00",
          "2023-07-20T00:00:00",
          "2023-07-20T00:00:00",
          "2023-07-20T00:00:00",
          "2023-07-20T00:00:00",
          "2023-07-20T00:00:00",
          "2023-07-20T00:00:00",
          "2023-07-20T00:00:00",
          "2023-07-20T00:00:00",
          "2023-07-20T00:00:00",
          "2023-07-20T00:00:00",
          "2023-07-20T00:00:00",
          "2023-07-20T00:00:00",
          "2023-07-20T00:00:00",
          "2023-07-20T00:00:00",
          "2023-07-20T00:00:00"
         ],
         "hovertemplate": "วันที่/เวลารับงาน=%{base}<br>วันที่/เวลาส่งรายงาน=%{x}<br>เลขเคลม=%{y}<extra></extra>",
         "legendgroup": "",
         "marker": {
          "color": "#000001",
          "pattern": {
           "shape": ""
          }
         },
         "name": "",
         "offsetgroup": "",
         "orientation": "h",
         "showlegend": false,
         "textposition": "auto",
         "type": "bar",
         "x": [
          172800000,
          86400000,
          172800000,
          0,
          0,
          172800000,
          86400000,
          0,
          86400000,
          0,
          86400000,
          172800000,
          345600000,
          0,
          86400000,
          0,
          0,
          0,
          259200000,
          345600000,
          0,
          86400000,
          0,
          172800000,
          0,
          86400000,
          86400000,
          0,
          86400000,
          0,
          86400000,
          86400000,
          86400000,
          172800000,
          0,
          86400000,
          172800000,
          86400000,
          518400000,
          0,
          0,
          86400000,
          86400000,
          86400000,
          86400000,
          86400000,
          86400000,
          0,
          172800000,
          172800000,
          86400000,
          86400000,
          0,
          86400000,
          259200000,
          259200000,
          86400000,
          86400000,
          86400000,
          172800000,
          86400000,
          0,
          0,
          86400000,
          86400000,
          345600000,
          86400000,
          172800000,
          86400000,
          86400000,
          86400000,
          86400000,
          0,
          518400000,
          86400000,
          86400000,
          86400000,
          0,
          0,
          0,
          86400000,
          86400000,
          86400000,
          86400000,
          172800000,
          0,
          864000000,
          0,
          0,
          86400000,
          0,
          86400000,
          0,
          172800000,
          259200000,
          0,
          86400000,
          86400000,
          86400000,
          0,
          86400000,
          0,
          0,
          172800000,
          0,
          0,
          172800000,
          172800000,
          0,
          518400000,
          345600000,
          86400000,
          86400000,
          0,
          172800000,
          86400000,
          86400000,
          0,
          86400000,
          86400000,
          0,
          0,
          0,
          0,
          86400000,
          0,
          86400000,
          86400000,
          0,
          0,
          345600000,
          0,
          259200000,
          172800000,
          86400000,
          0,
          0,
          0,
          86400000,
          345600000,
          0,
          0,
          86400000,
          172800000,
          86400000,
          172800000,
          172800000,
          86400000,
          0,
          86400000,
          0,
          172800000,
          0,
          172800000,
          0,
          0,
          86400000,
          0,
          259200000,
          86400000,
          0,
          0,
          86400000,
          0,
          86400000,
          0,
          0,
          0,
          172800000,
          172800000,
          518400000,
          86400000,
          86400000,
          86400000,
          86400000,
          259200000,
          0,
          86400000,
          345600000,
          172800000,
          86400000,
          0,
          86400000,
          0,
          86400000,
          0,
          172800000,
          86400000,
          172800000,
          86400000,
          0,
          172800000,
          86400000,
          86400000,
          86400000,
          86400000,
          86400000,
          259200000,
          259200000,
          0,
          86400000,
          86400000,
          0,
          345600000,
          0,
          172800000,
          86400000,
          172800000,
          172800000,
          0,
          86400000,
          86400000,
          172800000,
          86400000,
          0,
          345600000,
          86400000,
          432000000,
          0,
          86400000,
          345600000,
          86400000,
          172800000,
          0,
          86400000,
          0,
          172800000,
          0,
          86400000,
          172800000,
          345600000,
          172800000,
          86400000,
          172800000,
          86400000,
          86400000,
          0,
          0,
          0,
          0,
          0,
          0,
          0,
          86400000,
          0
         ],
         "xaxis": "x",
         "y": [
          "C_2022013166051",
          "C_2023013032000",
          "C_2023013034351",
          "C_2023013035825",
          "C_2023013035917",
          "C_2023013035965",
          "C_2023013035977",
          "C_2023013035980",
          "C_2023013035981",
          "C_2023013035983",
          "C_2023013035986",
          "C_2023013035997",
          "C_2023013036009",
          "C_2023013036015",
          "C_2023013036019",
          "C_2023013036021",
          "C_2023013036029",
          "C_2023013036030",
          "C_2023013036032",
          "C_2023013036038",
          "C_2023013036044",
          "C_2023013036046",
          "C_2023013036047",
          "C_2023013036055",
          "C_2023013036066",
          "C_2023013036067",
          "C_2023013036070",
          "C_2023013036080",
          "C_2023013036081",
          "C_2023013036083",
          "C_2023013036091",
          "C_2023013036101",
          "C_2023013036103",
          "C_2023013036105",
          "C_2023013036106",
          "C_2023013036111",
          "C_2023013036112",
          "C_2023013036119",
          "C_2023013036120",
          "C_2023013036121",
          "C_2023013036128",
          "C_2023013036131",
          "C_2023013036143",
          "C_2023013036145",
          "C_2023013036150",
          "C_2023013036150",
          "C_2023013036151",
          "C_2023013036156",
          "C_2023013036158",
          "C_2023013036162",
          "C_2023013036163",
          "C_2023013036166",
          "C_2023013036168",
          "C_2023013036170",
          "C_2023013036172",
          "C_2023013036173",
          "C_2023013036174",
          "C_2023013036175",
          "C_2023013036182",
          "C_2023013036183",
          "C_2023013132712",
          "C_2023013133631",
          "C_2023013140850",
          "C_2023013146457",
          "C_2023013146457",
          "C_2023013146536",
          "C_2023013155007",
          "C_2023013168537",
          "C_2023013171900",
          "C_2023013171900",
          "C_2023013173421",
          "C_2023013173823",
          "C_2023013175026",
          "C_2023013175497",
          "C_2023013175766",
          "C_2023013176236",
          "C_2023013176322",
          "C_2023013176782",
          "C_2023013176861",
          "C_2023013176873",
          "C_2023013176924",
          "C_2023013176928",
          "C_2023013176957",
          "C_2023013177008",
          "C_2023013177069",
          "C_2023013177072",
          "C_2023013177091",
          "C_2023013177102",
          "C_2023013177107",
          "C_2023013177128",
          "C_2023013177132",
          "C_2023013177140",
          "C_2023013177147",
          "C_2023013177176",
          "C_2023013177185",
          "C_2023013177186",
          "C_2023013177198",
          "C_2023013177204",
          "C_2023013177206",
          "C_2023013177209",
          "C_2023013177209",
          "C_2023013177210",
          "C_2023013177211",
          "C_2023013177213",
          "C_2023013177217",
          "C_2023013177218",
          "C_2023013177220",
          "C_2023013177221",
          "C_2023013177222",
          "C_2023013177223",
          "C_2023013177224",
          "C_2023013177225",
          "C_2023013177226",
          "C_2023013177227",
          "C_2023013177228",
          "C_2023013177229",
          "C_2023013177230",
          "C_2023013177231",
          "C_2023013177234",
          "C_2023013177235",
          "C_2023013177238",
          "C_2023013177243",
          "C_2023013177244",
          "C_2023013177245",
          "C_2023013177248",
          "C_2023013177249",
          "C_2023013177251",
          "C_2023013177254",
          "C_2023013177257",
          "C_2023013177265",
          "C_2023013177267",
          "C_2023013177269",
          "C_2023013177272",
          "C_2023013177273",
          "C_2023013177274",
          "C_2023013177279",
          "C_2023013177286",
          "C_2023013177289",
          "C_2023013177294",
          "C_2023013177300",
          "C_2023013177302",
          "C_2023013177303",
          "C_2023013177307",
          "C_2023013177310",
          "C_2023013177312",
          "C_2023013177317",
          "C_2023013177324",
          "C_2023013177327",
          "C_2023013177328",
          "C_2023013177333",
          "C_2023013177337",
          "C_2023013177341",
          "C_2023013177342",
          "C_2023013177343",
          "C_2023013177344",
          "C_2023013177346",
          "C_2023013177348",
          "C_2023013177354",
          "C_2023013177357",
          "C_2023013177360",
          "C_2023013177365",
          "C_2023013177380",
          "C_2023013177381",
          "C_2023013177383",
          "C_2023013177385",
          "C_2023013177389",
          "C_2023013177390",
          "C_2023013177393",
          "C_2023013177395",
          "C_2023013177396",
          "C_2023013177402",
          "C_2023013177406",
          "C_2023013177407",
          "C_2023013177410",
          "C_2023013177411",
          "C_2023013177414",
          "C_2023013177417",
          "C_2023013177418",
          "C_2023013177420",
          "C_2023013177424",
          "C_2023013177426",
          "C_2023013177431",
          "C_2023013177436",
          "C_2023013177449",
          "C_2023013177451",
          "C_2023013177456",
          "C_2023013177459",
          "C_2023013177462",
          "C_2023013177464",
          "C_2023013177469",
          "C_2023013177470",
          "C_2023013177478",
          "C_2023013177481",
          "C_2023013177483",
          "C_2023013177485",
          "C_2023013177487",
          "C_2023013177491",
          "C_2023013177494",
          "C_2023013177498",
          "C_2023013177506",
          "C_2023013177508",
          "C_2023013177511",
          "C_2023013177515",
          "C_2023013177517",
          "C_2023013177521",
          "C_2023013177527",
          "C_2023013177528",
          "C_2023013177532",
          "C_2023013177534",
          "C_2023013177537",
          "C_2023013177539",
          "C_2023013177546",
          "C_2023013177550",
          "C_2023013177552",
          "C_2023013177553",
          "C_2023013177554",
          "C_2023013177556",
          "C_2023013177561",
          "C_2023013177562",
          "C_2023013177563",
          "C_2023013177567",
          "C_2023013177569",
          "C_2023013177570",
          "C_2023013177571",
          "C_2023013177572",
          "C_2023013177574",
          "C_2023013177576",
          "C_2023013177577",
          "C_2023013177578",
          "C_2023013177580",
          "C_2023013177582",
          "C_2023013177586",
          "C_2023013177591",
          "C_2023013177593",
          "C_2023013177594",
          "C_2023013177595",
          "C_2023013700558",
          "C_2023013700558",
          "C_2023013700558",
          "C_2023013700558",
          "C_2023013700558",
          "C_2023013700558",
          "C_2023013700558",
          "C_2023013700895",
          "C_2023123728"
         ],
         "yaxis": "y"
        }
       ],
       "layout": {
        "barmode": "overlay",
        "legend": {
         "tracegroupgap": 0
        },
        "margin": {
         "t": 60
        },
        "template": {
         "data": {
          "candlestick": [
           {
            "decreasing": {
             "line": {
              "color": "#000033"
             }
            },
            "increasing": {
             "line": {
              "color": "#000032"
             }
            },
            "type": "candlestick"
           }
          ],
          "contour": [
           {
            "colorscale": [
             [
              0,
              "#000011"
             ],
             [
              0.1111111111111111,
              "#000012"
             ],
             [
              0.2222222222222222,
              "#000013"
             ],
             [
              0.3333333333333333,
              "#000014"
             ],
             [
              0.4444444444444444,
              "#000015"
             ],
             [
              0.5555555555555556,
              "#000016"
             ],
             [
              0.6666666666666666,
              "#000017"
             ],
             [
              0.7777777777777778,
              "#000018"
             ],
             [
              0.8888888888888888,
              "#000019"
             ],
             [
              1,
              "#000020"
             ]
            ],
            "type": "contour"
           }
          ],
          "contourcarpet": [
           {
            "colorscale": [
             [
              0,
              "#000011"
             ],
             [
              0.1111111111111111,
              "#000012"
             ],
             [
              0.2222222222222222,
              "#000013"
             ],
             [
              0.3333333333333333,
              "#000014"
             ],
             [
              0.4444444444444444,
              "#000015"
             ],
             [
              0.5555555555555556,
              "#000016"
             ],
             [
              0.6666666666666666,
              "#000017"
             ],
             [
              0.7777777777777778,
              "#000018"
             ],
             [
              0.8888888888888888,
              "#000019"
             ],
             [
              1,
              "#000020"
             ]
            ],
            "type": "contourcarpet"
           }
          ],
          "heatmap": [
           {
            "colorscale": [
             [
              0,
              "#000011"
             ],
             [
              0.1111111111111111,
              "#000012"
             ],
             [
              0.2222222222222222,
              "#000013"
             ],
             [
              0.3333333333333333,
              "#000014"
             ],
             [
              0.4444444444444444,
              "#000015"
             ],
             [
              0.5555555555555556,
              "#000016"
             ],
             [
              0.6666666666666666,
              "#000017"
             ],
             [
              0.7777777777777778,
              "#000018"
             ],
             [
              0.8888888888888888,
              "#000019"
             ],
             [
              1,
              "#000020"
             ]
            ],
            "type": "heatmap"
           }
          ],
          "histogram2d": [
           {
            "colorscale": [
             [
              0,
              "#000011"
             ],
             [
              0.1111111111111111,
              "#000012"
             ],
             [
              0.2222222222222222,
              "#000013"
             ],
             [
              0.3333333333333333,
              "#000014"
             ],
             [
              0.4444444444444444,
              "#000015"
             ],
             [
              0.5555555555555556,
              "#000016"
             ],
             [
              0.6666666666666666,
              "#000017"
             ],
             [
              0.7777777777777778,
              "#000018"
             ],
             [
              0.8888888888888888,
              "#000019"
             ],
             [
              1,
              "#000020"
             ]
            ],
            "type": "histogram2d"
           }
          ],
          "icicle": [
           {
            "textfont": {
             "color": "white"
            },
            "type": "icicle"
           }
          ],
          "sankey": [
           {
            "textfont": {
             "color": "#000036"
            },
            "type": "sankey"
           }
          ],
          "scatter": [
           {
            "marker": {
             "line": {
              "width": 0
             }
            },
            "type": "scatter"
           }
          ],
          "table": [
           {
            "cells": {
             "fill": {
              "color": "#000038"
             },
             "font": {
              "color": "#000037"
             },
             "line": {
              "color": "#000039"
             }
            },
            "header": {
             "fill": {
              "color": "#000040"
             },
             "font": {
              "color": "#000036"
             },
             "line": {
              "color": "#000039"
             }
            },
            "type": "table"
           }
          ],
          "waterfall": [
           {
            "connector": {
             "line": {
              "color": "#000036",
              "width": 2
             }
            },
            "decreasing": {
             "marker": {
              "color": "#000033"
             }
            },
            "increasing": {
             "marker": {
              "color": "#000032"
             }
            },
            "totals": {
             "marker": {
              "color": "#000034"
             }
            },
            "type": "waterfall"
           }
          ]
         },
         "layout": {
          "coloraxis": {
           "colorscale": [
            [
             0,
             "#000011"
            ],
            [
             0.1111111111111111,
             "#000012"
            ],
            [
             0.2222222222222222,
             "#000013"
            ],
            [
             0.3333333333333333,
             "#000014"
            ],
            [
             0.4444444444444444,
             "#000015"
            ],
            [
             0.5555555555555556,
             "#000016"
            ],
            [
             0.6666666666666666,
             "#000017"
            ],
            [
             0.7777777777777778,
             "#000018"
            ],
            [
             0.8888888888888888,
             "#000019"
            ],
            [
             1,
             "#000020"
            ]
           ]
          },
          "colorscale": {
           "diverging": [
            [
             0,
             "#000021"
            ],
            [
             0.1,
             "#000022"
            ],
            [
             0.2,
             "#000023"
            ],
            [
             0.3,
             "#000024"
            ],
            [
             0.4,
             "#000025"
            ],
            [
             0.5,
             "#000026"
            ],
            [
             0.6,
             "#000027"
            ],
            [
             0.7,
             "#000028"
            ],
            [
             0.8,
             "#000029"
            ],
            [
             0.9,
             "#000030"
            ],
            [
             1,
             "#000031"
            ]
           ],
           "sequential": [
            [
             0,
             "#000011"
            ],
            [
             0.1111111111111111,
             "#000012"
            ],
            [
             0.2222222222222222,
             "#000013"
            ],
            [
             0.3333333333333333,
             "#000014"
            ],
            [
             0.4444444444444444,
             "#000015"
            ],
            [
             0.5555555555555556,
             "#000016"
            ],
            [
             0.6666666666666666,
             "#000017"
            ],
            [
             0.7777777777777778,
             "#000018"
            ],
            [
             0.8888888888888888,
             "#000019"
            ],
            [
             1,
             "#000020"
            ]
           ],
           "sequentialminus": [
            [
             0,
             "#000011"
            ],
            [
             0.1111111111111111,
             "#000012"
            ],
            [
             0.2222222222222222,
             "#000013"
            ],
            [
             0.3333333333333333,
             "#000014"
            ],
            [
             0.4444444444444444,
             "#000015"
            ],
            [
             0.5555555555555556,
             "#000016"
            ],
            [
             0.6666666666666666,
             "#000017"
            ],
            [
             0.7777777777777778,
             "#000018"
            ],
            [
             0.8888888888888888,
             "#000019"
            ],
            [
             1,
             "#000020"
            ]
           ]
          },
          "colorway": [
           "#000001",
           "#000002",
           "#000003",
           "#000004",
           "#000005",
           "#000006",
           "#000007",
           "#000008",
           "#000009",
           "#000010"
          ]
         }
        },
        "xaxis": {
         "anchor": "y",
         "domain": [
          0,
          1
         ],
         "type": "date"
        },
        "yaxis": {
         "anchor": "x",
         "autorange": "reversed",
         "domain": [
          0,
          1
         ],
         "title": {
          "text": "เลขเคลม"
         }
        }
       }
      }
     },
     "metadata": {},
     "output_type": "display_data"
    }
   ],
   "source": [
    "import matplotlib.pyplot as plt\n",
    "import plotly.express as px\n",
    "\n",
    "fig = px.timeline(df,x_start=df['วันที่/เวลารับงาน'],x_end=df['วันที่/เวลาส่งรายงาน'],y=df['เลขเคลม'])\n",
    "fig.update_yaxes(autorange='reversed')\n",
    "fig.show()"
   ]
  },
  {
   "cell_type": "code",
   "execution_count": 86,
   "metadata": {},
   "outputs": [
    {
     "data": {
      "application/vnd.plotly.v1+json": {
       "config": {
        "plotlyServerURL": "https://plot.ly"
       },
       "data": [
        {
         "alignmentgroup": "True",
         "base": [
          "2009-01-01",
          "2009-01-05",
          "2009-01-20"
         ],
         "hovertemplate": "Start=%{base}<br>Finish=%{x}<br>Task=%{y}<extra></extra>",
         "legendgroup": "",
         "marker": {
          "color": "#000001",
          "pattern": {
           "shape": ""
          }
         },
         "name": "",
         "offsetgroup": "",
         "orientation": "h",
         "showlegend": false,
         "textposition": "auto",
         "type": "bar",
         "x": [
          2332800000,
          864000000,
          864000000
         ],
         "xaxis": "x",
         "y": [
          "Job A",
          "Job B",
          "Job C"
         ],
         "yaxis": "y"
        }
       ],
       "layout": {
        "barmode": "overlay",
        "legend": {
         "tracegroupgap": 0
        },
        "margin": {
         "t": 60
        },
        "template": {
         "data": {
          "candlestick": [
           {
            "decreasing": {
             "line": {
              "color": "#000033"
             }
            },
            "increasing": {
             "line": {
              "color": "#000032"
             }
            },
            "type": "candlestick"
           }
          ],
          "contour": [
           {
            "colorscale": [
             [
              0,
              "#000011"
             ],
             [
              0.1111111111111111,
              "#000012"
             ],
             [
              0.2222222222222222,
              "#000013"
             ],
             [
              0.3333333333333333,
              "#000014"
             ],
             [
              0.4444444444444444,
              "#000015"
             ],
             [
              0.5555555555555556,
              "#000016"
             ],
             [
              0.6666666666666666,
              "#000017"
             ],
             [
              0.7777777777777778,
              "#000018"
             ],
             [
              0.8888888888888888,
              "#000019"
             ],
             [
              1,
              "#000020"
             ]
            ],
            "type": "contour"
           }
          ],
          "contourcarpet": [
           {
            "colorscale": [
             [
              0,
              "#000011"
             ],
             [
              0.1111111111111111,
              "#000012"
             ],
             [
              0.2222222222222222,
              "#000013"
             ],
             [
              0.3333333333333333,
              "#000014"
             ],
             [
              0.4444444444444444,
              "#000015"
             ],
             [
              0.5555555555555556,
              "#000016"
             ],
             [
              0.6666666666666666,
              "#000017"
             ],
             [
              0.7777777777777778,
              "#000018"
             ],
             [
              0.8888888888888888,
              "#000019"
             ],
             [
              1,
              "#000020"
             ]
            ],
            "type": "contourcarpet"
           }
          ],
          "heatmap": [
           {
            "colorscale": [
             [
              0,
              "#000011"
             ],
             [
              0.1111111111111111,
              "#000012"
             ],
             [
              0.2222222222222222,
              "#000013"
             ],
             [
              0.3333333333333333,
              "#000014"
             ],
             [
              0.4444444444444444,
              "#000015"
             ],
             [
              0.5555555555555556,
              "#000016"
             ],
             [
              0.6666666666666666,
              "#000017"
             ],
             [
              0.7777777777777778,
              "#000018"
             ],
             [
              0.8888888888888888,
              "#000019"
             ],
             [
              1,
              "#000020"
             ]
            ],
            "type": "heatmap"
           }
          ],
          "histogram2d": [
           {
            "colorscale": [
             [
              0,
              "#000011"
             ],
             [
              0.1111111111111111,
              "#000012"
             ],
             [
              0.2222222222222222,
              "#000013"
             ],
             [
              0.3333333333333333,
              "#000014"
             ],
             [
              0.4444444444444444,
              "#000015"
             ],
             [
              0.5555555555555556,
              "#000016"
             ],
             [
              0.6666666666666666,
              "#000017"
             ],
             [
              0.7777777777777778,
              "#000018"
             ],
             [
              0.8888888888888888,
              "#000019"
             ],
             [
              1,
              "#000020"
             ]
            ],
            "type": "histogram2d"
           }
          ],
          "icicle": [
           {
            "textfont": {
             "color": "white"
            },
            "type": "icicle"
           }
          ],
          "sankey": [
           {
            "textfont": {
             "color": "#000036"
            },
            "type": "sankey"
           }
          ],
          "scatter": [
           {
            "marker": {
             "line": {
              "width": 0
             }
            },
            "type": "scatter"
           }
          ],
          "table": [
           {
            "cells": {
             "fill": {
              "color": "#000038"
             },
             "font": {
              "color": "#000037"
             },
             "line": {
              "color": "#000039"
             }
            },
            "header": {
             "fill": {
              "color": "#000040"
             },
             "font": {
              "color": "#000036"
             },
             "line": {
              "color": "#000039"
             }
            },
            "type": "table"
           }
          ],
          "waterfall": [
           {
            "connector": {
             "line": {
              "color": "#000036",
              "width": 2
             }
            },
            "decreasing": {
             "marker": {
              "color": "#000033"
             }
            },
            "increasing": {
             "marker": {
              "color": "#000032"
             }
            },
            "totals": {
             "marker": {
              "color": "#000034"
             }
            },
            "type": "waterfall"
           }
          ]
         },
         "layout": {
          "coloraxis": {
           "colorscale": [
            [
             0,
             "#000011"
            ],
            [
             0.1111111111111111,
             "#000012"
            ],
            [
             0.2222222222222222,
             "#000013"
            ],
            [
             0.3333333333333333,
             "#000014"
            ],
            [
             0.4444444444444444,
             "#000015"
            ],
            [
             0.5555555555555556,
             "#000016"
            ],
            [
             0.6666666666666666,
             "#000017"
            ],
            [
             0.7777777777777778,
             "#000018"
            ],
            [
             0.8888888888888888,
             "#000019"
            ],
            [
             1,
             "#000020"
            ]
           ]
          },
          "colorscale": {
           "diverging": [
            [
             0,
             "#000021"
            ],
            [
             0.1,
             "#000022"
            ],
            [
             0.2,
             "#000023"
            ],
            [
             0.3,
             "#000024"
            ],
            [
             0.4,
             "#000025"
            ],
            [
             0.5,
             "#000026"
            ],
            [
             0.6,
             "#000027"
            ],
            [
             0.7,
             "#000028"
            ],
            [
             0.8,
             "#000029"
            ],
            [
             0.9,
             "#000030"
            ],
            [
             1,
             "#000031"
            ]
           ],
           "sequential": [
            [
             0,
             "#000011"
            ],
            [
             0.1111111111111111,
             "#000012"
            ],
            [
             0.2222222222222222,
             "#000013"
            ],
            [
             0.3333333333333333,
             "#000014"
            ],
            [
             0.4444444444444444,
             "#000015"
            ],
            [
             0.5555555555555556,
             "#000016"
            ],
            [
             0.6666666666666666,
             "#000017"
            ],
            [
             0.7777777777777778,
             "#000018"
            ],
            [
             0.8888888888888888,
             "#000019"
            ],
            [
             1,
             "#000020"
            ]
           ],
           "sequentialminus": [
            [
             0,
             "#000011"
            ],
            [
             0.1111111111111111,
             "#000012"
            ],
            [
             0.2222222222222222,
             "#000013"
            ],
            [
             0.3333333333333333,
             "#000014"
            ],
            [
             0.4444444444444444,
             "#000015"
            ],
            [
             0.5555555555555556,
             "#000016"
            ],
            [
             0.6666666666666666,
             "#000017"
            ],
            [
             0.7777777777777778,
             "#000018"
            ],
            [
             0.8888888888888888,
             "#000019"
            ],
            [
             1,
             "#000020"
            ]
           ]
          },
          "colorway": [
           "#000001",
           "#000002",
           "#000003",
           "#000004",
           "#000005",
           "#000006",
           "#000007",
           "#000008",
           "#000009",
           "#000010"
          ]
         }
        },
        "xaxis": {
         "anchor": "y",
         "domain": [
          0,
          1
         ],
         "type": "date"
        },
        "yaxis": {
         "anchor": "x",
         "autorange": "reversed",
         "domain": [
          0,
          1
         ],
         "title": {
          "text": "Task"
         }
        }
       }
      }
     },
     "metadata": {},
     "output_type": "display_data"
    }
   ],
   "source": [
    "import plotly.express as px\n",
    "import pandas as pd\n",
    "\n",
    "df = pd.DataFrame([\n",
    "    dict(Task=\"Job A\", Start='2009-01-01', Finish='2009-01-28'),\n",
    "    dict(Task=\"Job B\", Start='2009-01-05', Finish='2009-01-15'),\n",
    "    dict(Task=\"Job C\", Start='2009-01-20', Finish='2009-01-30')\n",
    "])\n",
    "\n",
    "fig = px.timeline(df, x_start=\"Start\", x_end=\"Finish\", y=\"Task\")\n",
    "fig.update_yaxes(autorange=\"reversed\") # otherwise tasks are listed from the bottom up\n",
    "fig.show()"
   ]
  },
  {
   "cell_type": "code",
   "execution_count": 97,
   "metadata": {},
   "outputs": [
    {
     "name": "stdout",
     "output_type": "stream",
     "text": [
      "  col1\n",
      "0    1\n",
      "1    2\n",
      "2    3\n"
     ]
    }
   ],
   "source": [
    "import pandas as pd\n",
    "\n",
    "# Create a Pandas DataFrame with int values\n",
    "df = pd.DataFrame({'col1': [1, 2, 3]})\n",
    "\n",
    "# Convert the int values to strings\n",
    "df['col1'] = df['col1'].astype(str)\n",
    "\n",
    "# Create a new Pandas DataFrame called y with the converted strings\n",
    "y = df[['col1']]\n",
    "\n",
    "# Print the DataFrame y\n",
    "print(y)\n"
   ]
  }
 ],
 "metadata": {
  "kernelspec": {
   "display_name": "venv",
   "language": "python",
   "name": "python3"
  },
  "language_info": {
   "codemirror_mode": {
    "name": "ipython",
    "version": 3
   },
   "file_extension": ".py",
   "mimetype": "text/x-python",
   "name": "python",
   "nbconvert_exporter": "python",
   "pygments_lexer": "ipython3",
   "version": "3.11.0"
  },
  "orig_nbformat": 4
 },
 "nbformat": 4,
 "nbformat_minor": 2
}
