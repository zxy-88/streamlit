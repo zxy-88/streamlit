{
 "cells": [
  {
   "cell_type": "code",
   "execution_count": null,
   "metadata": {},
   "outputs": [],
   "source": [
    "import xml.etree.ElementTree as ET\n",
    "\n",
    "root = ET.parse('enquiry.xls')\n",
    "\n",
    "# Define the namespace\n",
    "namespace = {'ss': 'urn:schemas-microsoft-com:office:spreadsheet'}\n",
    "\n",
    "rows = root.findall(\"./ss:Worksheet/ss:Table/ss:Row\", namespace)\n",
    "print(len(rows))\n",
    "\n",
    "# for row in rows:\n",
    "#     data_elements = row.findall(\"ss:Cell/ss:Data\", namespace)\n",
    "#     print('SRow' + '-'*100)\n",
    "#     for data_element in data_elements:\n",
    "#         data_text = data_element.text\n",
    "#         print(\"Data Text:\", data_text)\n",
    "#     print('ERow'+ '-'*100)\n",
    "ap_ = []\n",
    "for c_row ,v_row in enumerate(rows):\n",
    "    data_elements = v_row.findall(\"ss:Cell/ss:Data\", namespace)\n",
    "    # print(data_elements)\n",
    "    print('-'*130)\n",
    "    for c_de,v_de in enumerate(data_elements):\n",
    "        data_text = v_de.text\n",
    "        print(str(c_de) + \" Data Text:\", data_text)\n",
    "        ap_.append(data_text)"
   ]
  },
  {
   "cell_type": "code",
   "execution_count": null,
   "metadata": {},
   "outputs": [],
   "source": [
    "ap_.pop(0)  # ลบ 'Report enquiry :Startdate 2023-07-20 to 2023-07-20 Export time [2023-07-21 12:46:28]'"
   ]
  },
  {
   "cell_type": "code",
   "execution_count": null,
   "metadata": {},
   "outputs": [],
   "source": [
    "rows = root.findall(\"./ss:Worksheet/ss:Table/ss:Row\", namespace)\n",
    "print(len(rows))"
   ]
  },
  {
   "cell_type": "code",
   "execution_count": null,
   "metadata": {},
   "outputs": [],
   "source": [
    "namespace = {'ss': 'urn:schemas-microsoft-com:office:spreadsheet'}\n",
    "\n",
    "rows = root.findall(\"./ss:Worksheet/ss:Table/ss:Row/ss:Cell/ss:Data\", namespace)\n",
    "\n",
    "len(rows)"
   ]
  },
  {
   "cell_type": "code",
   "execution_count": null,
   "metadata": {},
   "outputs": [],
   "source": [
    "sl = [ap_[i:i+44] for i in range(0, len(ap_), 44)]\n",
    "\n",
    "# ตรวจสอบผลลัพธ์\n",
    "for idx, sublist in enumerate(sl, start=1):\n",
    "    # print(f\"List {idx}: {sublist}\")\n",
    "    print(idx,sublist)"
   ]
  },
  {
   "cell_type": "code",
   "execution_count": null,
   "metadata": {},
   "outputs": [],
   "source": [
    "column = sl[0] # ตั้งชื่อ คอลัมน์\n",
    "column"
   ]
  },
  {
   "cell_type": "code",
   "execution_count": null,
   "metadata": {},
   "outputs": [],
   "source": [
    "sl.pop(0) # ลบหัวแถวออก"
   ]
  },
  {
   "cell_type": "code",
   "execution_count": null,
   "metadata": {},
   "outputs": [],
   "source": [
    "sl"
   ]
  },
  {
   "cell_type": "code",
   "execution_count": null,
   "metadata": {},
   "outputs": [],
   "source": [
    "import pandas as pd\n",
    "\n",
    "pd.set_option('display.max_columns',None)\n",
    "\n",
    "df = pd.DataFrame(sl,columns=column)\n",
    "df\n"
   ]
  },
  {
   "cell_type": "code",
   "execution_count": null,
   "metadata": {},
   "outputs": [],
   "source": [
    "df[['เลขเคลม','เลขรับแจ้ง','เลขเซอเวย์','อำเภอที่เกิดเหตุ','จังหวัดที่เกิดเหตุ','อำเภอที่ออกตรวจสอบ','จังหวัดที่ออกตรวจสอบ','พนักงานตรวจสอบ','เหตุผลการจ่ายงาน','ใช้เซอร์เวย์นอก',\n",
    "    'ประเภทเคลม(ว.4/นัดหมาย)','ใน/นอก(เวลางาน)','นอกพื้นที่','วันที่/เวลารับแจ้ง','วันที่/เวลาจ่ายงาน','วันที่/เวลารับงาน','วันที่/เวลาถึง ว.22','วันที่/เวลาเสร็จงาน ว.14','วันที่/เวลาส่งรายงาน','ผู้รับแจ้ง','ผู้จ่ายงาน','ผู้ตรวจสอบงาน','วันที่/เวลาตรวจสอบ','สถานะงาน']]"
   ]
  },
  {
   "cell_type": "code",
   "execution_count": null,
   "metadata": {},
   "outputs": [],
   "source": [
    "# df[df['ผู้จ่ายงาน']=='ปิยะณัฐ ขานไธสง']"
   ]
  },
  {
   "cell_type": "code",
   "execution_count": null,
   "metadata": {},
   "outputs": [],
   "source": [
    "# df[(df['ผู้รับแจ้ง']=='ปิยะณัฐ') & (df['ผู้จ่ายงาน']=='ปิยะณัฐ ขานไธสง')]"
   ]
  },
  {
   "cell_type": "code",
   "execution_count": null,
   "metadata": {},
   "outputs": [],
   "source": [
    "dfx = df['ผู้รับแจ้ง'].fillna('sesurvey')\n",
    "dfx"
   ]
  },
  {
   "cell_type": "code",
   "execution_count": null,
   "metadata": {},
   "outputs": [],
   "source": [
    "import numpy as np\n",
    "import matplotlib.pyplot as plt\n",
    "import matplotlib as mpl\n",
    "\n",
    "\n",
    "mpl.font_manager.fontManager.addfont(r'C:\\Users\\88888888\\Desktop\\gg-main\\THSarabunNew.ttf')\n",
    "mpl.rc('font',family='TH Sarabun New',size=10)\n",
    "\n",
    "# x = dfx\n",
    "# y = np.arange(1,262)\n",
    "\n",
    "\n",
    "# plt.bar(x,y)\n",
    "# plt.show()\n",
    "\n",
    "dfx.value_counts().plot(kind='barh')\n",
    "\n"
   ]
  },
  {
   "cell_type": "code",
   "execution_count": null,
   "metadata": {},
   "outputs": [],
   "source": [
    "import numpy as np\n",
    "import matplotlib.pyplot as plt\n",
    "import matplotlib as mpl\n",
    "\n",
    "\n",
    "mpl.font_manager.fontManager.addfont(r'C:\\Users\\88888888\\Desktop\\gg-main\\THSarabunNew.ttf')\n",
    "mpl.rc('font',family='TH Sarabun New',size=10)\n",
    "\n",
    "\n",
    "# # สร้างกราฟแบบ bar โดยกำหนดชื่อประเทศเป็นแกน x และจำนวนประชากรเป็นแกน y\n",
    "# ax = df.plot(x='ประเทศ', y='จำนวนประชากร', kind='bar', legend=False)\n",
    "\n",
    "# # แสดงค่าบนแท่ง\n",
    "# for index, value in enumerate(df['จำนวนประชากร']):\n",
    "#     ax.text(index, value, str(value), ha='center', va='bottom')\n",
    "\n",
    "# # กำหนดชื่อแกน x และ y และชื่อกราฟ\n",
    "# plt.xlabel('ประเทศ')\n",
    "# plt.ylabel('จำนวนประชากร')\n",
    "# plt.title('กราฟแสดงจำนวนประชากรของแต่ละประเทศ')\n",
    "\n",
    "# # แสดงกราฟ\n",
    "# plt.show()\n",
    "\n",
    "# dfx.plot(x='xx',y=dfx.value_counts,kind='bar')\n",
    "\n",
    "ax = dfx.value_counts().plot(kind='bar',legend=False)\n",
    "\n",
    "for index , value in enumerate(dfx.value_counts()):\n",
    "    ax.text(index,value,str(value), ha='center')\n"
   ]
  },
  {
   "cell_type": "code",
   "execution_count": null,
   "metadata": {},
   "outputs": [],
   "source": [
    "numpy_value = dfx.value_counts().values\n",
    "value_list = numpy_value.tolist()\n",
    "\n",
    "numpy_index = dfx.value_counts().index\n",
    "index_list = numpy_index.tolist()\n"
   ]
  },
  {
   "cell_type": "code",
   "execution_count": null,
   "metadata": {},
   "outputs": [],
   "source": [
    "import pandas as pd\n",
    "import matplotlib.pyplot as plt\n",
    "\n",
    "# สร้างข้อมูลตัวอย่าง\n",
    "data = {\n",
    "    'ชื่อพนักงานรับแจ้ง': index_list,\n",
    "    'จำนวนสายที่รับ': value_list\n",
    "}\n",
    "\n",
    "# แปลงข้อมูลเป็น DataFrame ของ pandas\n",
    "df = pd.DataFrame(data)\n",
    "\n",
    "# สร้างกราฟแบบ barh โดยกำหนดชื่อประเทศเป็นแกน y และจำนวนประชากรเป็นแกน x\n",
    "ax = df.plot(x='ชื่อพนักงานรับแจ้ง', y='จำนวนสายที่รับ', kind='barh', legend=False)\n",
    "\n",
    "# แสดงค่าบนแท่ง\n",
    "for index, value in enumerate(df['จำนวนสายที่รับ']):\n",
    "    ax.text(value, index, str(value), ha='left', va='center')\n",
    "\n",
    "# กำหนดชื่อแกน x และ y และชื่อกราฟ\n",
    "plt.xlabel('จำนวนสายที่รับ')\n",
    "plt.ylabel('รายชื่อพนักงานรับแจ้ง')\n",
    "plt.title('กราฟแสดงจำนวนสายที่รับ')\n",
    "\n",
    "# แสดงกราฟ\n",
    "plt.show()\n"
   ]
  },
  {
   "cell_type": "code",
   "execution_count": null,
   "metadata": {},
   "outputs": [],
   "source": [
    "import pandas as pd\n",
    "import matplotlib.pyplot as plt\n",
    "import matplotlib as mpl\n",
    "\n",
    "mpl.font_manager.fontManager.addfont(r'C:\\Users\\88888888\\Desktop\\gg-main\\THSarabunNew.ttf')\n",
    "mpl.rc('font',family='TH Sarabun New',size=14)\n",
    "\n",
    "# สร้างข้อมูลตัวอย่าง\n",
    "data = {\n",
    "    'ประเทศ': ['ประเทศ A', 'ประเทศ B', 'ประเทศ C', 'ประเทศ D'],\n",
    "    'จำนวนประชากร': [500, 700, 400, 600]\n",
    "}\n",
    "\n",
    "# แปลงข้อมูลเป็น DataFrame ของ pandas\n",
    "df = pd.DataFrame(data)\n",
    "\n",
    "# สร้างกราฟแบบ bar โดยกำหนดชื่อประเทศเป็นแกน x และจำนวนประชากรเป็นแกน y\n",
    "ax = df.plot(x='ประเทศ', y='จำนวนประชากร', kind='bar', legend=False)\n",
    "\n",
    "# แสดงค่าบนแท่ง\n",
    "for index, value in enumerate(df['จำนวนประชากร']):\n",
    "    ax.text(index,value, str(value), ha='center', va='bottom')\n",
    "\n",
    "# กำหนดชื่อแกน x และ y และชื่อกราฟ\n",
    "plt.xlabel('ประเทศ')\n",
    "plt.ylabel('จำนวนประชากร')\n",
    "plt.title('กราฟแสดงจำนวนประชากรของแต่ละประเทศ')\n",
    "\n",
    "# แสดงกราฟ\n",
    "plt.show()\n",
    "\n"
   ]
  },
  {
   "cell_type": "code",
   "execution_count": null,
   "metadata": {},
   "outputs": [],
   "source": [
    "dfx.value_counts()"
   ]
  },
  {
   "cell_type": "code",
   "execution_count": null,
   "metadata": {},
   "outputs": [],
   "source": [
    "import matplotlib as mpl\n",
    "mpl.__version__"
   ]
  },
  {
   "cell_type": "code",
   "execution_count": null,
   "metadata": {},
   "outputs": [],
   "source": [
    "import pandas as pd\n",
    "import matplotlib.pyplot as plt\n",
    "\n",
    "# สร้างข้อมูลตัวอย่าง\n",
    "data = {\n",
    "    'ประเทศ': ['ประเทศ A', 'ประเทศ B', 'ประเทศ C', 'ประเทศ D'],\n",
    "    'จำนวนประชากร': [500, 700, 400, 600]\n",
    "}\n",
    "\n",
    "# แปลงข้อมูลเป็น DataFrame ของ pandas\n",
    "df = pd.DataFrame(data)\n",
    "\n",
    "# สร้างกราฟแบบ barh โดยกำหนดชื่อประเทศเป็นแกน y และจำนวนประชากรเป็นแกน x\n",
    "ax = df.plot(x='ประเทศ', y='จำนวนประชากร', kind='barh', legend=False)\n",
    "\n",
    "# แสดงค่าบนแท่ง\n",
    "for index, value in enumerate(df['จำนวนประชากร']):\n",
    "    ax.text(value, index, str(value), ha='left', va='center')\n",
    "\n",
    "# กำหนดชื่อแกน x และ y และชื่อกราฟ\n",
    "plt.xlabel('จำนวนประชากร')\n",
    "plt.ylabel('ประเทศ')\n",
    "plt.title('กราฟแสดงจำนวนประชากรของแต่ละประเทศ')\n",
    "\n",
    "# แสดงกราฟ\n",
    "plt.show()\n"
   ]
  },
  {
   "cell_type": "code",
   "execution_count": null,
   "metadata": {},
   "outputs": [],
   "source": [
    "import pandas as pd\n",
    "import matplotlib.pyplot as plt\n",
    "import streamlit as st\n",
    "\n",
    "# สร้างข้อมูลตัวอย่าง\n",
    "data = {\n",
    "    'ประเทศ': ['ประเทศ A', 'ประเทศ B', 'ประเทศ C', 'ประเทศ D'],\n",
    "    'จำนวนประชากร': [500, 700, 400, 600]\n",
    "}\n",
    "\n",
    "# แปลงข้อมูลเป็น DataFrame ของ pandas\n",
    "df = pd.DataFrame(data)\n",
    "\n",
    "# สร้างกราฟแบบ barh โดยกำหนดชื่อประเทศเป็นแกน y และจำนวนประชากรเป็นแกน x\n",
    "ax = df.plot(x='ประเทศ', y='จำนวนประชากร', kind='barh', legend=False)\n",
    "\n",
    "# แสดงค่าบนแท่ง\n",
    "for index, value in enumerate(df['จำนวนประชากร']):\n",
    "    ax.text(value, index, str(value), ha='left', va='center')\n",
    "\n",
    "# กำหนดชื่อแกน x และ y และชื่อกราฟ\n",
    "plt.xlabel('จำนวนประชากร')\n",
    "plt.ylabel('ประเทศ')\n",
    "plt.title('กราฟแสดงจำนวนประชากรของแต่ละประเทศ')\n",
    "\n",
    "# แสดงกราฟ\n",
    "plt.show()"
   ]
  },
  {
   "cell_type": "code",
   "execution_count": null,
   "metadata": {},
   "outputs": [],
   "source": [
    "import streamlit as st\n",
    "import pandas as pd\n",
    "import numpy as np\n",
    "\n",
    "chart_data = pd.DataFrame(\n",
    "    np.random.randn(20, 3),\n",
    "    columns=['a', 'b', 'c'])\n",
    "\n",
    "chart_data.plot()"
   ]
  },
  {
   "cell_type": "code",
   "execution_count": null,
   "metadata": {},
   "outputs": [],
   "source": [
    "import pandas as pd\n",
    "import streamlit as st\n",
    "\n",
    "# โหลดข้อมูล\n",
    "dd = {\n",
    "    'country': ['ประเทศ A', 'ประเทศ B', 'ประเทศ C', 'ประเทศ D'],\n",
    "    'population': [500, 700, 400, 600]\n",
    "}\n",
    "\n",
    "\n",
    "\n",
    "df = pd.DataFrame(dd)\n",
    "\n",
    "df.plot.barh(x='country', y='population', stacked=True).set_facecolor('lightblue')\n",
    "\n",
    "# เปลี่ยนสีพื้นหลัง\n",
    "ax.set_facecolor('lightblue')\n",
    "\n",
    "# แสดงแผนภูมิ\n",
    "# st.pyplot(df)\n"
   ]
  }
 ],
 "metadata": {
  "kernelspec": {
   "display_name": "venv",
   "language": "python",
   "name": "python3"
  },
  "language_info": {
   "codemirror_mode": {
    "name": "ipython",
    "version": 3
   },
   "file_extension": ".py",
   "mimetype": "text/x-python",
   "name": "python",
   "nbconvert_exporter": "python",
   "pygments_lexer": "ipython3",
   "version": "3.11.0"
  },
  "orig_nbformat": 4
 },
 "nbformat": 4,
 "nbformat_minor": 2
}
